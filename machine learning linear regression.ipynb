{
 "cells": [
  {
   "cell_type": "markdown",
   "id": "c214630c",
   "metadata": {},
   "source": [
    "# steps invovle in model building-\n",
    "1.undestand the requirement/problem statement.\n"
   ]
  },
  {
   "cell_type": "markdown",
   "id": "ceaf2288",
   "metadata": {},
   "source": [
    "2.get the data/load the data."
   ]
  },
  {
   "cell_type": "markdown",
   "id": "53f33a31",
   "metadata": {},
   "source": [
    "3.data pre-processing/data cleaning(replacing nulls,rename,replacing,non-numeric values)"
   ]
  },
  {
   "cell_type": "markdown",
   "id": "7532e331",
   "metadata": {},
   "source": [
    "4.sampling(random sampling-train&test split)"
   ]
  },
  {
   "cell_type": "markdown",
   "id": "cf2116da",
   "metadata": {},
   "source": [
    "5.building the model"
   ]
  },
  {
   "cell_type": "markdown",
   "id": "f4543311",
   "metadata": {},
   "source": [
    "6.test the model and check the model performance."
   ]
  },
  {
   "cell_type": "markdown",
   "id": "67376796",
   "metadata": {},
   "source": [
    "7.re-run the from some previous step"
   ]
  },
  {
   "cell_type": "code",
   "execution_count": 1,
   "id": "96711142",
   "metadata": {},
   "outputs": [],
   "source": [
    "import numpy as np\n",
    "import pandas as pd\n"
   ]
  },
  {
   "cell_type": "code",
   "execution_count": 2,
   "id": "95078495",
   "metadata": {},
   "outputs": [
    {
     "data": {
      "text/html": [
       "<div>\n",
       "<style scoped>\n",
       "    .dataframe tbody tr th:only-of-type {\n",
       "        vertical-align: middle;\n",
       "    }\n",
       "\n",
       "    .dataframe tbody tr th {\n",
       "        vertical-align: top;\n",
       "    }\n",
       "\n",
       "    .dataframe thead th {\n",
       "        text-align: right;\n",
       "    }\n",
       "</style>\n",
       "<table border=\"1\" class=\"dataframe\">\n",
       "  <thead>\n",
       "    <tr style=\"text-align: right;\">\n",
       "      <th></th>\n",
       "      <th>LungCap</th>\n",
       "      <th>Age</th>\n",
       "      <th>Height</th>\n",
       "      <th>Smoke</th>\n",
       "      <th>Gender</th>\n",
       "      <th>Caesarean</th>\n",
       "    </tr>\n",
       "  </thead>\n",
       "  <tbody>\n",
       "    <tr>\n",
       "      <th>0</th>\n",
       "      <td>6.475</td>\n",
       "      <td>6</td>\n",
       "      <td>62.1</td>\n",
       "      <td>no</td>\n",
       "      <td>male</td>\n",
       "      <td>no</td>\n",
       "    </tr>\n",
       "    <tr>\n",
       "      <th>1</th>\n",
       "      <td>10.125</td>\n",
       "      <td>18</td>\n",
       "      <td>74.7</td>\n",
       "      <td>yes</td>\n",
       "      <td>female</td>\n",
       "      <td>no</td>\n",
       "    </tr>\n",
       "    <tr>\n",
       "      <th>2</th>\n",
       "      <td>9.550</td>\n",
       "      <td>16</td>\n",
       "      <td>69.7</td>\n",
       "      <td>no</td>\n",
       "      <td>female</td>\n",
       "      <td>yes</td>\n",
       "    </tr>\n",
       "    <tr>\n",
       "      <th>3</th>\n",
       "      <td>11.125</td>\n",
       "      <td>14</td>\n",
       "      <td>71.0</td>\n",
       "      <td>no</td>\n",
       "      <td>male</td>\n",
       "      <td>no</td>\n",
       "    </tr>\n",
       "    <tr>\n",
       "      <th>4</th>\n",
       "      <td>4.800</td>\n",
       "      <td>5</td>\n",
       "      <td>56.9</td>\n",
       "      <td>no</td>\n",
       "      <td>male</td>\n",
       "      <td>no</td>\n",
       "    </tr>\n",
       "    <tr>\n",
       "      <th>...</th>\n",
       "      <td>...</td>\n",
       "      <td>...</td>\n",
       "      <td>...</td>\n",
       "      <td>...</td>\n",
       "      <td>...</td>\n",
       "      <td>...</td>\n",
       "    </tr>\n",
       "    <tr>\n",
       "      <th>720</th>\n",
       "      <td>5.725</td>\n",
       "      <td>9</td>\n",
       "      <td>56.0</td>\n",
       "      <td>no</td>\n",
       "      <td>female</td>\n",
       "      <td>no</td>\n",
       "    </tr>\n",
       "    <tr>\n",
       "      <th>721</th>\n",
       "      <td>9.050</td>\n",
       "      <td>18</td>\n",
       "      <td>72.0</td>\n",
       "      <td>yes</td>\n",
       "      <td>male</td>\n",
       "      <td>yes</td>\n",
       "    </tr>\n",
       "    <tr>\n",
       "      <th>722</th>\n",
       "      <td>3.850</td>\n",
       "      <td>11</td>\n",
       "      <td>60.5</td>\n",
       "      <td>yes</td>\n",
       "      <td>female</td>\n",
       "      <td>no</td>\n",
       "    </tr>\n",
       "    <tr>\n",
       "      <th>723</th>\n",
       "      <td>9.825</td>\n",
       "      <td>15</td>\n",
       "      <td>64.9</td>\n",
       "      <td>no</td>\n",
       "      <td>female</td>\n",
       "      <td>no</td>\n",
       "    </tr>\n",
       "    <tr>\n",
       "      <th>724</th>\n",
       "      <td>7.100</td>\n",
       "      <td>10</td>\n",
       "      <td>67.7</td>\n",
       "      <td>no</td>\n",
       "      <td>male</td>\n",
       "      <td>no</td>\n",
       "    </tr>\n",
       "  </tbody>\n",
       "</table>\n",
       "<p>725 rows × 6 columns</p>\n",
       "</div>"
      ],
      "text/plain": [
       "     LungCap  Age  Height Smoke  Gender Caesarean\n",
       "0      6.475    6    62.1    no    male        no\n",
       "1     10.125   18    74.7   yes  female        no\n",
       "2      9.550   16    69.7    no  female       yes\n",
       "3     11.125   14    71.0    no    male        no\n",
       "4      4.800    5    56.9    no    male        no\n",
       "..       ...  ...     ...   ...     ...       ...\n",
       "720    5.725    9    56.0    no  female        no\n",
       "721    9.050   18    72.0   yes    male       yes\n",
       "722    3.850   11    60.5   yes  female        no\n",
       "723    9.825   15    64.9    no  female        no\n",
       "724    7.100   10    67.7    no    male        no\n",
       "\n",
       "[725 rows x 6 columns]"
      ]
     },
     "execution_count": 2,
     "metadata": {},
     "output_type": "execute_result"
    }
   ],
   "source": [
    "df = pd.read_csv('LungCapData.csv')\n",
    "df\n"
   ]
  },
  {
   "cell_type": "code",
   "execution_count": 3,
   "id": "bc8db0fb",
   "metadata": {},
   "outputs": [
    {
     "data": {
      "text/html": [
       "<div>\n",
       "<style scoped>\n",
       "    .dataframe tbody tr th:only-of-type {\n",
       "        vertical-align: middle;\n",
       "    }\n",
       "\n",
       "    .dataframe tbody tr th {\n",
       "        vertical-align: top;\n",
       "    }\n",
       "\n",
       "    .dataframe thead th {\n",
       "        text-align: right;\n",
       "    }\n",
       "</style>\n",
       "<table border=\"1\" class=\"dataframe\">\n",
       "  <thead>\n",
       "    <tr style=\"text-align: right;\">\n",
       "      <th></th>\n",
       "      <th>LungCap</th>\n",
       "      <th>Age</th>\n",
       "      <th>Height</th>\n",
       "      <th>Smoke</th>\n",
       "      <th>Gender</th>\n",
       "      <th>Caesarean</th>\n",
       "    </tr>\n",
       "  </thead>\n",
       "  <tbody>\n",
       "    <tr>\n",
       "      <th>0</th>\n",
       "      <td>6.475</td>\n",
       "      <td>6</td>\n",
       "      <td>62.1</td>\n",
       "      <td>no</td>\n",
       "      <td>male</td>\n",
       "      <td>no</td>\n",
       "    </tr>\n",
       "    <tr>\n",
       "      <th>1</th>\n",
       "      <td>10.125</td>\n",
       "      <td>18</td>\n",
       "      <td>74.7</td>\n",
       "      <td>yes</td>\n",
       "      <td>female</td>\n",
       "      <td>no</td>\n",
       "    </tr>\n",
       "    <tr>\n",
       "      <th>2</th>\n",
       "      <td>9.550</td>\n",
       "      <td>16</td>\n",
       "      <td>69.7</td>\n",
       "      <td>no</td>\n",
       "      <td>female</td>\n",
       "      <td>yes</td>\n",
       "    </tr>\n",
       "    <tr>\n",
       "      <th>3</th>\n",
       "      <td>11.125</td>\n",
       "      <td>14</td>\n",
       "      <td>71.0</td>\n",
       "      <td>no</td>\n",
       "      <td>male</td>\n",
       "      <td>no</td>\n",
       "    </tr>\n",
       "    <tr>\n",
       "      <th>4</th>\n",
       "      <td>4.800</td>\n",
       "      <td>5</td>\n",
       "      <td>56.9</td>\n",
       "      <td>no</td>\n",
       "      <td>male</td>\n",
       "      <td>no</td>\n",
       "    </tr>\n",
       "  </tbody>\n",
       "</table>\n",
       "</div>"
      ],
      "text/plain": [
       "   LungCap  Age  Height Smoke  Gender Caesarean\n",
       "0    6.475    6    62.1    no    male        no\n",
       "1   10.125   18    74.7   yes  female        no\n",
       "2    9.550   16    69.7    no  female       yes\n",
       "3   11.125   14    71.0    no    male        no\n",
       "4    4.800    5    56.9    no    male        no"
      ]
     },
     "execution_count": 3,
     "metadata": {},
     "output_type": "execute_result"
    }
   ],
   "source": [
    "df.head()"
   ]
  },
  {
   "cell_type": "code",
   "execution_count": 4,
   "id": "8beb2c1e",
   "metadata": {},
   "outputs": [],
   "source": [
    "#here target variable y is lungcap and others age and height is x"
   ]
  },
  {
   "cell_type": "code",
   "execution_count": 5,
   "id": "ff524e51",
   "metadata": {},
   "outputs": [],
   "source": [
    "# data preprocessing"
   ]
  },
  {
   "cell_type": "code",
   "execution_count": 6,
   "id": "a481c342",
   "metadata": {},
   "outputs": [
    {
     "name": "stdout",
     "output_type": "stream",
     "text": [
      "<class 'pandas.core.frame.DataFrame'>\n",
      "RangeIndex: 725 entries, 0 to 724\n",
      "Data columns (total 6 columns):\n",
      " #   Column     Non-Null Count  Dtype  \n",
      "---  ------     --------------  -----  \n",
      " 0   LungCap    725 non-null    float64\n",
      " 1   Age        725 non-null    int64  \n",
      " 2   Height     725 non-null    float64\n",
      " 3   Smoke      725 non-null    object \n",
      " 4   Gender     725 non-null    object \n",
      " 5   Caesarean  725 non-null    object \n",
      "dtypes: float64(2), int64(1), object(3)\n",
      "memory usage: 34.1+ KB\n"
     ]
    }
   ],
   "source": [
    "df.info()"
   ]
  },
  {
   "cell_type": "code",
   "execution_count": 7,
   "id": "202cdfd8",
   "metadata": {},
   "outputs": [
    {
     "data": {
      "text/plain": [
       "LungCap      0\n",
       "Age          0\n",
       "Height       0\n",
       "Smoke        0\n",
       "Gender       0\n",
       "Caesarean    0\n",
       "dtype: int64"
      ]
     },
     "execution_count": 7,
     "metadata": {},
     "output_type": "execute_result"
    }
   ],
   "source": [
    "df.isnull().sum()"
   ]
  },
  {
   "cell_type": "code",
   "execution_count": 8,
   "id": "be5a602e",
   "metadata": {},
   "outputs": [
    {
     "data": {
      "text/plain": [
       "no     648\n",
       "yes     77\n",
       "Name: Smoke, dtype: int64"
      ]
     },
     "execution_count": 8,
     "metadata": {},
     "output_type": "execute_result"
    }
   ],
   "source": [
    "df.Smoke.value_counts()"
   ]
  },
  {
   "cell_type": "code",
   "execution_count": 9,
   "id": "b64e945a",
   "metadata": {},
   "outputs": [],
   "source": [
    "df.Smoke=df.Smoke.replace({\"no\":0,'yes':1})"
   ]
  },
  {
   "cell_type": "code",
   "execution_count": 10,
   "id": "76e6d7d0",
   "metadata": {},
   "outputs": [
    {
     "data": {
      "text/plain": [
       "0    648\n",
       "1     77\n",
       "Name: Smoke, dtype: int64"
      ]
     },
     "execution_count": 10,
     "metadata": {},
     "output_type": "execute_result"
    }
   ],
   "source": [
    "df.Smoke.value_counts()"
   ]
  },
  {
   "cell_type": "code",
   "execution_count": 11,
   "id": "08a59150",
   "metadata": {},
   "outputs": [],
   "source": [
    "df.Gender=df.Gender.replace({\"male\":0,'female':1})\n",
    "df.Gender=df.Gender."
   ]
  },
  {
   "cell_type": "code",
   "execution_count": 12,
   "id": "446fe416",
   "metadata": {},
   "outputs": [],
   "source": [
    "df.Caesarean=df.Caesarean.replace({\"no\":0,'yes':1})replace()"
   ]
  },
  {
   "cell_type": "code",
   "execution_count": 13,
   "id": "25116a83",
   "metadata": {},
   "outputs": [
    {
     "name": "stdout",
     "output_type": "stream",
     "text": [
      "<class 'pandas.core.frame.DataFrame'>\n",
      "RangeIndex: 725 entries, 0 to 724\n",
      "Data columns (total 6 columns):\n",
      " #   Column     Non-Null Count  Dtype  \n",
      "---  ------     --------------  -----  \n",
      " 0   LungCap    725 non-null    float64\n",
      " 1   Age        725 non-null    int64  \n",
      " 2   Height     725 non-null    float64\n",
      " 3   Smoke      725 non-null    int64  \n",
      " 4   Gender     725 non-null    int64  \n",
      " 5   Caesarean  725 non-null    int64  \n",
      "dtypes: float64(2), int64(4)\n",
      "memory usage: 34.1 KB\n"
     ]
    }
   ],
   "source": [
    "df.info()\n",
    "#here we have convert the object in int datatype"
   ]
  },
  {
   "cell_type": "code",
   "execution_count": 14,
   "id": "dc8cea7c",
   "metadata": {},
   "outputs": [],
   "source": [
    "#sampling\n",
    "#first to use sampling we should import "
   ]
  },
  {
   "cell_type": "code",
   "execution_count": 15,
   "id": "ecf179ac",
   "metadata": {},
   "outputs": [],
   "source": [
    "from sklearn.model_selection import train_test_split"
   ]
  },
  {
   "cell_type": "code",
   "execution_count": 16,
   "id": "e7cec029",
   "metadata": {},
   "outputs": [],
   "source": [
    "df_train,df_test=train_test_split(df,test_size=0.2)\n",
    "df_train,df_test=train_test_split(df,test_size=0.2)"
   ]
  },
  {
   "cell_type": "code",
   "execution_count": 17,
   "id": "b439568e",
   "metadata": {},
   "outputs": [
    {
     "data": {
      "text/plain": [
       "(580, 6)"
      ]
     },
     "execution_count": 17,
     "metadata": {},
     "output_type": "execute_result"
    }
   ],
   "source": [
    "df_train.shape"
   ]
  },
  {
   "cell_type": "code",
   "execution_count": 18,
   "id": "ae0dc2ac",
   "metadata": {},
   "outputs": [
    {
     "data": {
      "text/plain": [
       "(145, 6)"
      ]
     },
     "execution_count": 18,
     "metadata": {},
     "output_type": "execute_result"
    }
   ],
   "source": [
    "df_test.shape"
   ]
  },
  {
   "cell_type": "code",
   "execution_count": 19,
   "id": "9316f166",
   "metadata": {},
   "outputs": [
    {
     "data": {
      "text/plain": [
       "(725, 6)"
      ]
     },
     "execution_count": 19,
     "metadata": {},
     "output_type": "execute_result"
    }
   ],
   "source": [
    "df.shape"
   ]
  },
  {
   "cell_type": "code",
   "execution_count": 20,
   "id": "7bf54572",
   "metadata": {},
   "outputs": [],
   "source": [
    "df_train_y=df_train.iloc[:,0]\n",
    "df_test_y=df_test.iloc[:,0]"
   ]
  },
  {
   "cell_type": "code",
   "execution_count": 21,
   "id": "64056f9a",
   "metadata": {},
   "outputs": [
    {
     "data": {
      "text/plain": [
       "499     7.900\n",
       "350     5.650\n",
       "556     2.725\n",
       "283     4.775\n",
       "576    12.325\n",
       "        ...  \n",
       "215     5.850\n",
       "245     3.825\n",
       "13      6.000\n",
       "483     9.675\n",
       "423     7.800\n",
       "Name: LungCap, Length: 580, dtype: float64"
      ]
     },
     "execution_count": 21,
     "metadata": {},
     "output_type": "execute_result"
    }
   ],
   "source": [
    "df_train_y"
   ]
  },
  {
   "cell_type": "code",
   "execution_count": 22,
   "id": "a09ced55",
   "metadata": {},
   "outputs": [],
   "source": [
    "df_train_x=df_train.iloc[:,1::]\n",
    "df_test_x=df_test.iloc[:,1::]"
   ]
  },
  {
   "cell_type": "code",
   "execution_count": 23,
   "id": "30b3a090",
   "metadata": {},
   "outputs": [
    {
     "data": {
      "text/html": [
       "<div>\n",
       "<style scoped>\n",
       "    .dataframe tbody tr th:only-of-type {\n",
       "        vertical-align: middle;\n",
       "    }\n",
       "\n",
       "    .dataframe tbody tr th {\n",
       "        vertical-align: top;\n",
       "    }\n",
       "\n",
       "    .dataframe thead th {\n",
       "        text-align: right;\n",
       "    }\n",
       "</style>\n",
       "<table border=\"1\" class=\"dataframe\">\n",
       "  <thead>\n",
       "    <tr style=\"text-align: right;\">\n",
       "      <th></th>\n",
       "      <th>Age</th>\n",
       "      <th>Height</th>\n",
       "      <th>Smoke</th>\n",
       "      <th>Gender</th>\n",
       "      <th>Caesarean</th>\n",
       "    </tr>\n",
       "  </thead>\n",
       "  <tbody>\n",
       "    <tr>\n",
       "      <th>540</th>\n",
       "      <td>9</td>\n",
       "      <td>63.4</td>\n",
       "      <td>0</td>\n",
       "      <td>1</td>\n",
       "      <td>1</td>\n",
       "    </tr>\n",
       "    <tr>\n",
       "      <th>154</th>\n",
       "      <td>16</td>\n",
       "      <td>67.2</td>\n",
       "      <td>0</td>\n",
       "      <td>1</td>\n",
       "      <td>0</td>\n",
       "    </tr>\n",
       "    <tr>\n",
       "      <th>435</th>\n",
       "      <td>15</td>\n",
       "      <td>73.7</td>\n",
       "      <td>0</td>\n",
       "      <td>0</td>\n",
       "      <td>0</td>\n",
       "    </tr>\n",
       "    <tr>\n",
       "      <th>306</th>\n",
       "      <td>15</td>\n",
       "      <td>69.3</td>\n",
       "      <td>1</td>\n",
       "      <td>0</td>\n",
       "      <td>0</td>\n",
       "    </tr>\n",
       "    <tr>\n",
       "      <th>642</th>\n",
       "      <td>13</td>\n",
       "      <td>66.0</td>\n",
       "      <td>1</td>\n",
       "      <td>1</td>\n",
       "      <td>0</td>\n",
       "    </tr>\n",
       "  </tbody>\n",
       "</table>\n",
       "</div>"
      ],
      "text/plain": [
       "     Age  Height  Smoke  Gender  Caesarean\n",
       "540    9    63.4      0       1          1\n",
       "154   16    67.2      0       1          0\n",
       "435   15    73.7      0       0          0\n",
       "306   15    69.3      1       0          0\n",
       "642   13    66.0      1       1          0"
      ]
     },
     "execution_count": 23,
     "metadata": {},
     "output_type": "execute_result"
    }
   ],
   "source": [
    "df_test_x.head()"
   ]
  },
  {
   "cell_type": "markdown",
   "id": "68c6da03",
   "metadata": {},
   "source": [
    "creating the model"
   ]
  },
  {
   "cell_type": "code",
   "execution_count": 24,
   "id": "58ab9675",
   "metadata": {},
   "outputs": [],
   "source": [
    "from sklearn.linear_model import LinearRegression"
   ]
  },
  {
   "cell_type": "code",
   "execution_count": 25,
   "id": "29e21607",
   "metadata": {},
   "outputs": [],
   "source": [
    "linereg=LinearRegression()"
   ]
  },
  {
   "cell_type": "code",
   "execution_count": 26,
   "id": "86c9ba2b",
   "metadata": {},
   "outputs": [
    {
     "data": {
      "text/html": [
       "<style>#sk-container-id-1 {color: black;background-color: white;}#sk-container-id-1 pre{padding: 0;}#sk-container-id-1 div.sk-toggleable {background-color: white;}#sk-container-id-1 label.sk-toggleable__label {cursor: pointer;display: block;width: 100%;margin-bottom: 0;padding: 0.3em;box-sizing: border-box;text-align: center;}#sk-container-id-1 label.sk-toggleable__label-arrow:before {content: \"▸\";float: left;margin-right: 0.25em;color: #696969;}#sk-container-id-1 label.sk-toggleable__label-arrow:hover:before {color: black;}#sk-container-id-1 div.sk-estimator:hover label.sk-toggleable__label-arrow:before {color: black;}#sk-container-id-1 div.sk-toggleable__content {max-height: 0;max-width: 0;overflow: hidden;text-align: left;background-color: #f0f8ff;}#sk-container-id-1 div.sk-toggleable__content pre {margin: 0.2em;color: black;border-radius: 0.25em;background-color: #f0f8ff;}#sk-container-id-1 input.sk-toggleable__control:checked~div.sk-toggleable__content {max-height: 200px;max-width: 100%;overflow: auto;}#sk-container-id-1 input.sk-toggleable__control:checked~label.sk-toggleable__label-arrow:before {content: \"▾\";}#sk-container-id-1 div.sk-estimator input.sk-toggleable__control:checked~label.sk-toggleable__label {background-color: #d4ebff;}#sk-container-id-1 div.sk-label input.sk-toggleable__control:checked~label.sk-toggleable__label {background-color: #d4ebff;}#sk-container-id-1 input.sk-hidden--visually {border: 0;clip: rect(1px 1px 1px 1px);clip: rect(1px, 1px, 1px, 1px);height: 1px;margin: -1px;overflow: hidden;padding: 0;position: absolute;width: 1px;}#sk-container-id-1 div.sk-estimator {font-family: monospace;background-color: #f0f8ff;border: 1px dotted black;border-radius: 0.25em;box-sizing: border-box;margin-bottom: 0.5em;}#sk-container-id-1 div.sk-estimator:hover {background-color: #d4ebff;}#sk-container-id-1 div.sk-parallel-item::after {content: \"\";width: 100%;border-bottom: 1px solid gray;flex-grow: 1;}#sk-container-id-1 div.sk-label:hover label.sk-toggleable__label {background-color: #d4ebff;}#sk-container-id-1 div.sk-serial::before {content: \"\";position: absolute;border-left: 1px solid gray;box-sizing: border-box;top: 0;bottom: 0;left: 50%;z-index: 0;}#sk-container-id-1 div.sk-serial {display: flex;flex-direction: column;align-items: center;background-color: white;padding-right: 0.2em;padding-left: 0.2em;position: relative;}#sk-container-id-1 div.sk-item {position: relative;z-index: 1;}#sk-container-id-1 div.sk-parallel {display: flex;align-items: stretch;justify-content: center;background-color: white;position: relative;}#sk-container-id-1 div.sk-item::before, #sk-container-id-1 div.sk-parallel-item::before {content: \"\";position: absolute;border-left: 1px solid gray;box-sizing: border-box;top: 0;bottom: 0;left: 50%;z-index: -1;}#sk-container-id-1 div.sk-parallel-item {display: flex;flex-direction: column;z-index: 1;position: relative;background-color: white;}#sk-container-id-1 div.sk-parallel-item:first-child::after {align-self: flex-end;width: 50%;}#sk-container-id-1 div.sk-parallel-item:last-child::after {align-self: flex-start;width: 50%;}#sk-container-id-1 div.sk-parallel-item:only-child::after {width: 0;}#sk-container-id-1 div.sk-dashed-wrapped {border: 1px dashed gray;margin: 0 0.4em 0.5em 0.4em;box-sizing: border-box;padding-bottom: 0.4em;background-color: white;}#sk-container-id-1 div.sk-label label {font-family: monospace;font-weight: bold;display: inline-block;line-height: 1.2em;}#sk-container-id-1 div.sk-label-container {text-align: center;}#sk-container-id-1 div.sk-container {/* jupyter's `normalize.less` sets `[hidden] { display: none; }` but bootstrap.min.css set `[hidden] { display: none !important; }` so we also need the `!important` here to be able to override the default hidden behavior on the sphinx rendered scikit-learn.org. See: https://github.com/scikit-learn/scikit-learn/issues/21755 */display: inline-block !important;position: relative;}#sk-container-id-1 div.sk-text-repr-fallback {display: none;}</style><div id=\"sk-container-id-1\" class=\"sk-top-container\"><div class=\"sk-text-repr-fallback\"><pre>LinearRegression()</pre><b>In a Jupyter environment, please rerun this cell to show the HTML representation or trust the notebook. <br />On GitHub, the HTML representation is unable to render, please try loading this page with nbviewer.org.</b></div><div class=\"sk-container\" hidden><div class=\"sk-item\"><div class=\"sk-estimator sk-toggleable\"><input class=\"sk-toggleable__control sk-hidden--visually\" id=\"sk-estimator-id-1\" type=\"checkbox\" checked><label for=\"sk-estimator-id-1\" class=\"sk-toggleable__label sk-toggleable__label-arrow\">LinearRegression</label><div class=\"sk-toggleable__content\"><pre>LinearRegression()</pre></div></div></div></div></div>"
      ],
      "text/plain": [
       "LinearRegression()"
      ]
     },
     "execution_count": 26,
     "metadata": {},
     "output_type": "execute_result"
    }
   ],
   "source": [
    "linereg.fit(df_train_x,df_train_y)"
   ]
  },
  {
   "cell_type": "code",
   "execution_count": 32,
   "id": "7a9b7f61",
   "metadata": {},
   "outputs": [
    {
     "data": {
      "text/plain": [
       "0.8505864963172116"
      ]
     },
     "execution_count": 32,
     "metadata": {},
     "output_type": "execute_result"
    }
   ],
   "source": [
    "Adj_Rsquare"
   ]
  },
  {
   "cell_type": "code",
   "execution_count": 34,
   "id": "5306a944",
   "metadata": {},
   "outputs": [
    {
     "data": {
      "text/plain": [
       "Index(['Age', 'Height', 'Smoke', 'Gender', 'Caesarean'], dtype='object')"
      ]
     },
     "execution_count": 34,
     "metadata": {},
     "output_type": "execute_result"
    }
   ],
   "source": [
    "df_train_x.columns\n"
   ]
  },
  {
   "cell_type": "code",
   "execution_count": 35,
   "id": "ea3866b9",
   "metadata": {},
   "outputs": [
    {
     "data": {
      "text/plain": [
       "-10.893145908841689"
      ]
     },
     "execution_count": 35,
     "metadata": {},
     "output_type": "execute_result"
    }
   ],
   "source": [
    "linereg.intercept_ # we will get betanot value\n",
    "\n"
   ]
  },
  {
   "cell_type": "markdown",
   "id": "604ba689",
   "metadata": {},
   "source": [
    "predictions on train data"
   ]
  },
  {
   "cell_type": "code",
   "execution_count": 36,
   "id": "29e55d1f",
   "metadata": {},
   "outputs": [],
   "source": [
    "pred_train=linereg.predict(df_train_x)"
   ]
  },
  {
   "cell_type": "code",
   "execution_count": 37,
   "id": "717a9093",
   "metadata": {},
   "outputs": [],
   "source": [
    "pred_test=linereg.predict(df_test_x)"
   ]
  },
  {
   "cell_type": "code",
   "execution_count": 38,
   "id": "03a0a83c",
   "metadata": {},
   "outputs": [
    {
     "data": {
      "text/plain": [
       "array([ 8.10594875,  3.94116375,  4.36912774,  4.67919001, 12.30787358,\n",
       "        8.40006534,  7.34749946, 10.18613671,  8.39496068,  6.54676226,\n",
       "       12.62093522,  6.47417408, 11.53753847,  8.34729004,  8.13782882,\n",
       "        9.48213921,  4.47183407,  3.30825931,  8.31937312,  4.62625961,\n",
       "       11.21769567,  4.0128841 ,  6.49609225,  7.9804039 ,  8.23545675,\n",
       "        3.82852179,  6.50513379,  6.17627571,  4.5203988 ,  2.86497694,\n",
       "        4.55138478, 11.88297864,  7.07906566,  6.52255745, 10.76837113,\n",
       "        5.20607854,  6.07943018,  8.11120851, 10.37985077,  2.60274042,\n",
       "        9.2174872 ,  6.94900004, 10.26720881,  5.60095128, 11.45588248,\n",
       "        9.19854215, 11.27288646,  7.2614778 ,  7.13425645,  4.49619399,\n",
       "        5.25916405,  4.4674684 ,  5.50187163,  8.87343958,  7.87680348,\n",
       "       10.17264993,  9.11252049,  9.0035052 ,  7.92310783, 11.45798776,\n",
       "       10.84405464,  7.27351872,  8.11062462,  7.59020704,  9.08757668,\n",
       "        8.03107392,  7.68494729,  7.90416278,  6.13251569,  4.39785333,\n",
       "       11.38100765,  7.9804039 ,  7.02539627,  7.10705226,  9.13672531,\n",
       "        8.95598967,  5.55238655,  7.24108103, 10.32298348,  3.5237627 ,\n",
       "        8.97930039, 11.61977834, 10.13924847,  7.32555503,  8.37060076,\n",
       "        8.68907727, 13.57294347, 11.17139132,  5.39375044,  9.45059562,\n",
       "        6.75863898, 11.56610895,  7.71423049,  8.37738192,  8.60668229,\n",
       "       12.35569932,  8.61630772,  5.88754772,  9.1380916 ,  7.99856655,\n",
       "        9.82029977,  8.50308187,  4.91511644, 10.03354277,  8.26473996,\n",
       "       10.08860472,  6.18318571,  9.2968828 , 11.48463433,  9.95173168,\n",
       "        7.55243991, 11.30145694, 12.36080398,  5.62967687,  6.95052144,\n",
       "       10.39940598, 11.03906531,  3.41112074,  6.19989664, 11.43378294,\n",
       "        5.50171653,  7.74011181,  6.97488136,  4.68371078,  9.08305591,\n",
       "       10.13716946,  2.01298585,  8.9242647 ,  9.26605193,  5.15856301,\n",
       "       10.95814831,  9.23943163,  2.16951667, 10.74342733,  5.18187373,\n",
       "       10.29141362,  4.28205689, 11.72263977,  8.20970427,  3.86102916,\n",
       "        6.37354677,  8.19738527,  4.49619399,  9.2439524 ,  7.87243781,\n",
       "        6.0507046 , 11.07005128, 10.76989253,  6.71007424, 10.20195941,\n",
       "       10.18991849,  3.1509895 , 10.27157448,  9.7091792 , 11.08691732,\n",
       "        5.78846808,  7.50418538, 11.50865778,  8.20970427,  7.31199271,\n",
       "        9.28035324,  4.37049403, 10.76989253,  4.04613046, 11.74684459,\n",
       "        6.2631652 , 10.82960409,  7.44586638,  8.07425005,  8.06205989,\n",
       "        6.9028508 ,  5.76200287,  5.7558056 , 10.77741268,  8.90216517,\n",
       "       10.08857845,  8.98171588,  4.73059902,  9.48213921,  9.85565141,\n",
       "        8.79419908,  8.98156077,  8.47872195,  6.31309622,  7.94941793,\n",
       "        8.63525277,  9.93430802,  7.12915179,  3.57201723,  6.48092897,\n",
       "        8.18760474,  8.97930039, 10.32676526,  6.59687466, 10.48345119,\n",
       "        3.11774314,  8.17018108,  3.09353832,  5.94273851,  7.89212186,\n",
       "        5.23343784,  6.76315975,  7.54791914,  7.37396466,  4.88849613,\n",
       "        9.5110199 , 10.84476736, 10.43039195,  7.97532551,  6.18755137,\n",
       "       11.69632967,  9.4845547 ,  7.48056445,  6.46978215,  3.11758803,\n",
       "        6.52271255,  8.64518841,  8.92863037, 10.5611703 ,  2.09238145,\n",
       "        5.06697138,  7.23727298,  7.44883949,  8.32519051,  6.92857701,\n",
       "       11.19801162, 12.44019958,  6.84029497,  5.71343814,  9.18665633,\n",
       "       11.87990958,  7.68718141, 10.77215291,  7.6076307 ,  6.17640455,\n",
       "        9.95625245,  3.97441011,  5.33840455, 10.94314015, 10.029022  ,\n",
       "        6.05312009,  8.44789108,  9.13583121,  9.30140357,  6.86604744,\n",
       "        5.21059932, 11.6651886 ,  8.34203028,  9.92978725,  3.31188599,\n",
       "        5.84124337, 11.51181226, 10.29367401,  8.00476382,  8.53617312,\n",
       "        9.08079553,  9.90573754,  7.0974531 ,  4.54986338,  6.50076812,\n",
       "        5.74305782,  9.34755282, 13.17596545, 12.46140502,  8.63525277,\n",
       "       10.97935375,  8.02896864,  4.47183407,  7.61230657,  7.70615273,\n",
       "        7.92310783,  5.81267289,  9.02771002,  4.02734051,  7.85049338,\n",
       "        9.18804889,  7.79514749, 12.32681863,  9.37417313,  4.73212041,\n",
       "        8.05472111,  7.54736152,  4.28431727,  9.56153481, 10.95217583,\n",
       "        6.97262097, 11.35664773, 10.37380861,  8.60129369,  5.8376167 ,\n",
       "        7.29456905,  5.86634228,  7.81724703,  9.56168992,  9.95117406,\n",
       "       10.10770488,  9.88137762, 10.42587118,  7.21817283,  9.53070395,\n",
       "        2.20050264,  8.20728878,  8.05543384,  6.8234552 ,  8.63299239,\n",
       "       10.0554872 ,  5.20833893, 10.76778725,  2.64589029, 10.24455166,\n",
       "        7.3407183 , 10.06226836,  8.49076287,  9.53522472, 10.93094412,\n",
       "        9.74905161,  9.98497803,  8.44789108, 11.40295208,  9.65850918,\n",
       "        7.07906566,  7.60100464,  7.12221553, 10.71470174,  5.05180811,\n",
       "        8.05230562,  3.71186338,  8.9462354 ,  5.68034688, 10.92957783,\n",
       "        5.9714641 , 10.42673901,  9.95399206,  5.8588484 ,  4.04839085,\n",
       "        8.10368836,  5.33477787, 12.38952956, 10.16812916,  9.76510898,\n",
       "        9.63133126,  6.18755137,  6.02213411,  9.21014842,  6.58090272,\n",
       "        7.49966461,  3.55307217,  8.50760264,  4.97256761,  9.40063833,\n",
       "        7.10946775, 10.95530404,  9.79294047,  7.39590909,  5.73779806,\n",
       "        8.63766826, 12.06216662,  8.18549946,  8.74352907,  5.62518236,\n",
       "        6.99682579,  9.00139992,  5.52607645,  7.75979585, 10.90463402,\n",
       "        7.5283902 ,  8.10384347,  8.18323907,  7.79288711,  6.21175619,\n",
       "        7.88688836, 10.16121917,  9.79141907,  2.40996386,  6.52497294,\n",
       "        6.1830306 ,  7.34749946,  8.08852509,  4.99225165,  7.26358308,\n",
       "        7.69018078,  6.3442373 ,  5.81719366, 12.19449262, 11.95930519,\n",
       "        8.69059867,  4.97030722, 10.8802741 , 10.14150886,  8.13256905,\n",
       "       10.85396401, 11.66673626,  4.94820769,  8.0068691 ,  4.8930169 ,\n",
       "        8.08022254,  9.32715605, 11.51020544,  3.89201513,  9.42484314,\n",
       "        4.30641681, 10.66418683, 10.69801707,  7.12989079,  4.62625961,\n",
       "        7.46852353, 10.34573658,  7.95467769, 10.69065203,  7.27336362,\n",
       "       10.6634741 , 10.85154852, 12.15301925,  5.80969978, 13.01491386,\n",
       "        5.78605258,  5.1584079 ,  5.12683805, 11.32566175,  8.92726408,\n",
       "        6.97036059,  7.97743079,  6.86886545,  3.38465554,  8.11046952,\n",
       "        4.39469885, 11.12372068,  8.44863007, 13.30829146,  1.5940634 ,\n",
       "        5.73990334,  7.97151746,  3.576538  ,  5.28621314,  5.757327  ,\n",
       "        9.20634038, 10.42600002,  1.14415498, 10.21582607,  7.21306817,\n",
       "       11.35680283,  6.97262097, 11.50881288, 10.85454789,  6.99967006,\n",
       "        9.7621096 ,  9.94891367,  9.36965235,  8.13708983,  3.14420834,\n",
       "        8.58910353,  3.44210671,  9.92994235,  9.79448813,  5.98888776,\n",
       "        6.59761365,  8.85012886,  7.7953026 ,  8.9241096 , 10.9074783 ,\n",
       "       11.00355857,  5.54802088,  7.81031076,  9.19402138, 12.3313394 ,\n",
       "        5.87448973, 10.4819298 ,  8.79107087,  5.02534291, 10.53186082,\n",
       "        5.28336887,  9.81504   ,  8.74126868, 12.09315259,  8.29420453,\n",
       "        3.5236076 , 11.51843831,  2.59280478,  6.62857336,  9.29914319,\n",
       "        2.48768297,  7.81498664, 10.6687076 ,  7.31651348,  7.78836633,\n",
       "        3.67877213,  7.05412186,  5.33406515,  6.7971451 , 11.59031376,\n",
       "        9.28784126, 10.98402963,  8.45225675,  8.8184039 ,  9.42784252,\n",
       "        8.08474331, 10.66177134,  6.31086211,  7.77168167,  4.89091162,\n",
       "        7.45109988,  6.89759104,  6.27162285, 12.35328383,  7.21291306,\n",
       "        5.76426326,  5.41853914, 10.03112728, 10.45998537,  7.73543593,\n",
       "        8.79419908,  8.19060411,  8.47283489,  6.39038655,  7.65774309,\n",
       "        8.84923477,  7.95031202, 10.58463612,  6.41911213, 11.03906531,\n",
       "        7.37173054,  9.68952142,  8.11499029,  8.45015147,  8.20744389,\n",
       "        4.52491957,  2.95879683,  9.66287485,  5.99414752,  4.4673133 ,\n",
       "       11.35664773,  9.16077502,  4.99153893,  4.96789173,  7.08074216,\n",
       "        7.32103425,  6.40016708,  8.60370918,  5.49211737,  4.99509593,\n",
       "        6.12799492,  8.13467434,  6.95278182, 10.03338767, 11.59120786,\n",
       "        7.73843531,  9.16319051,  7.0474958 ,  3.25443481,  5.70681209,\n",
       "        7.10794636,  7.55259501,  7.68550491,  2.85745679, 11.61767306,\n",
       "        9.74242556, 11.21908822,  3.09338322,  6.3132776 ,  6.15672051,\n",
       "        7.47319941,  9.29236203,  6.68434803,  8.51060202,  9.82634193,\n",
       "       12.40621423,  9.55419604,  8.95357418,  6.34045552,  7.2613227 ,\n",
       "       11.19785652, 12.06216662,  9.76721426,  8.05301835,  9.81869295,\n",
       "        5.76410815,  4.20733716,  6.42137252,  9.15706292,  9.14505413])"
      ]
     },
     "execution_count": 38,
     "metadata": {},
     "output_type": "execute_result"
    }
   ],
   "source": [
    "pred_train"
   ]
  },
  {
   "cell_type": "code",
   "execution_count": 39,
   "id": "71be948b",
   "metadata": {},
   "outputs": [
    {
     "data": {
      "text/plain": [
       "array([ 6.66481909,  8.97493472, 10.95966971,  9.1857885 ,  7.57834749,\n",
       "        6.47188743,  6.60421344,  5.23480413, 11.32340137,  5.07375254,\n",
       "        7.29472416, 10.53412121,  7.02629037,  6.25580015,  6.20271465,\n",
       "        5.12005689,  9.24410751,  8.61346345,  8.85149515,  9.06250404,\n",
       "        5.44668085,  7.04960109,  4.4674684 ,  9.46034989,  9.39385717,\n",
       "       11.21980095,  6.34197692,  7.8217678 ,  3.49503711,  7.71575189,\n",
       "        9.81940567,  9.68934005,  4.20281639, 10.75262397,  8.37360014,\n",
       "        9.84587087,  9.98949881,  7.6340959 ,  6.6217922 , 10.0025568 ,\n",
       "        6.48092897,  3.57217233,  5.36260937,  8.50518715,  5.10247812,\n",
       "        7.6605611 ,  6.91816918, 12.09163119,  2.9906769 ,  9.11388678,\n",
       "        8.21948481,  7.45125498,  6.52723332,  7.07622139,  4.49845437,\n",
       "       10.11278327, 10.87801372, 10.43562545,  7.45125498,  3.33835119,\n",
       "        6.31325133,  2.88014021,  9.71580525,  8.24353452,  4.44762925,\n",
       "        9.76591765,  5.73853705, 12.93851763,  9.43146919, 10.32539898,\n",
       "       11.64550455,  6.39490732,  3.28557589, 12.99070904,  3.99093967,\n",
       "        4.23228097,  4.86429131,  8.10594875,  3.65141283,  5.70907247,\n",
       "        7.0738059 ,  7.44447382, 11.06553051, 11.59257415,  8.73674791,\n",
       "        5.23721962,  8.52787057,  6.92179585,  3.33172513,  6.62405259,\n",
       "        7.91843195,  7.49740423,  2.2708567 ,  5.42021564,  7.08058706,\n",
       "       11.11394014,  9.68184617,  8.10610385,  6.49909162, 10.87575333,\n",
       "        3.30525993,  7.76053484,  7.95183342,  4.10147636, 10.37461728,\n",
       "        3.99320006,  5.94725928,  6.55072542,  8.05753912,  5.73327729,\n",
       "        8.00250343,  2.65267145,  2.78573644,  6.58003489,  6.50061302,\n",
       "        9.65990174,  4.91722172, 10.2141233 ,  7.17982181,  7.21154678,\n",
       "        8.0870037 ,  9.46019478,  8.2722601 ,  7.79604159, 10.1347277 ,\n",
       "        3.31188599,  9.00139992,  9.55264838,  9.7990089 ,  8.50292677,\n",
       "        9.66513523, 10.14150886,  4.5731741 ,  9.97835198,  9.26905131,\n",
       "        5.97372448,  5.99495619,  9.90332204,  5.44216007,  3.75516835,\n",
       "        9.58121886,  6.79399062, 11.67438525,  9.5382241 ,  8.35091672])"
      ]
     },
     "execution_count": 39,
     "metadata": {},
     "output_type": "execute_result"
    }
   ],
   "source": [
    "pred_test"
   ]
  },
  {
   "cell_type": "code",
   "execution_count": 40,
   "id": "8bc26238",
   "metadata": {},
   "outputs": [],
   "source": [
    "#finding error that is actual value - predicted value"
   ]
  },
  {
   "cell_type": "code",
   "execution_count": 41,
   "id": "b0608ba3",
   "metadata": {},
   "outputs": [],
   "source": [
    "err_test=df_test_y-pred_test\n"
   ]
  },
  {
   "cell_type": "code",
   "execution_count": 42,
   "id": "202de835",
   "metadata": {},
   "outputs": [
    {
     "data": {
      "text/plain": [
       "540    0.135181\n",
       "154    0.300065\n",
       "435    0.340330\n",
       "306   -0.710789\n",
       "642    0.371653\n",
       "         ...   \n",
       "120   -1.031219\n",
       "299    0.606009\n",
       "373   -0.949385\n",
       "239    1.361776\n",
       "414   -0.225917\n",
       "Name: LungCap, Length: 145, dtype: float64"
      ]
     },
     "execution_count": 42,
     "metadata": {},
     "output_type": "execute_result"
    }
   ],
   "source": [
    "err_test"
   ]
  },
  {
   "cell_type": "code",
   "execution_count": 27,
   "id": "b5460411",
   "metadata": {},
   "outputs": [],
   "source": [
    "Rsquare=linereg.score(df_train_x,df_train_y)"
   ]
  },
  {
   "cell_type": "code",
   "execution_count": 28,
   "id": "7cbc6075",
   "metadata": {},
   "outputs": [
    {
     "data": {
      "text/plain": [
       "0.85187676836974"
      ]
     },
     "execution_count": 28,
     "metadata": {},
     "output_type": "execute_result"
    }
   ],
   "source": [
    "Rsquare #this means the our model is better..."
   ]
  },
  {
   "cell_type": "code",
   "execution_count": 29,
   "id": "059476a8",
   "metadata": {},
   "outputs": [],
   "source": [
    "N=df_train_x.shape[0]"
   ]
  },
  {
   "cell_type": "code",
   "execution_count": 30,
   "id": "b307b5a7",
   "metadata": {},
   "outputs": [],
   "source": [
    "K=df_train_x.shape[1]"
   ]
  },
  {
   "cell_type": "code",
   "execution_count": 31,
   "id": "894aef7e",
   "metadata": {},
   "outputs": [],
   "source": [
    "Adj_Rsquare=1-(1-Rsquare)*(N-1)/(N-K-1)"
   ]
  },
  {
   "cell_type": "code",
   "execution_count": 43,
   "id": "5c29b102",
   "metadata": {},
   "outputs": [
    {
     "data": {
      "text/plain": [
       "1.0092356539868312"
      ]
     },
     "execution_count": 43,
     "metadata": {},
     "output_type": "execute_result"
    }
   ],
   "source": [
    "mse=np.mean(np.square(err_test))\n",
    "mse"
   ]
  },
  {
   "cell_type": "code",
   "execution_count": 33,
   "id": "02c427b9",
   "metadata": {},
   "outputs": [
    {
     "data": {
      "text/plain": [
       "array([ 0.15653082,  0.26465201, -0.60941235, -0.42102773, -0.20872223])"
      ]
     },
     "execution_count": 33,
     "metadata": {},
     "output_type": "execute_result"
    }
   ],
   "source": [
    "linereg.coef_ #it will display the beta values"
   ]
  },
  {
   "cell_type": "code",
   "execution_count": 44,
   "id": "5615c640",
   "metadata": {},
   "outputs": [
    {
     "data": {
      "text/plain": [
       "1.0046072137839899"
      ]
     },
     "execution_count": 44,
     "metadata": {},
     "output_type": "execute_result"
    }
   ],
   "source": [
    "rsme=np.sqrt(mse)\n",
    "rsme"
   ]
  },
  {
   "cell_type": "code",
   "execution_count": 45,
   "id": "53706035",
   "metadata": {},
   "outputs": [
    {
     "data": {
      "text/plain": [
       "13.795782985622688"
      ]
     },
     "execution_count": 45,
     "metadata": {},
     "output_type": "execute_result"
    }
   ],
   "source": [
    "mape=np.mean(np.abs(err_test*100/df_test_y))\n",
    "mape"
   ]
  },
  {
   "cell_type": "code",
   "execution_count": null,
   "id": "8930c052",
   "metadata": {},
   "outputs": [],
   "source": [
    "mape=np.mean"
   ]
  }
 ],
 "metadata": {
  "kernelspec": {
   "display_name": "Python 3 (ipykernel)",
   "language": "python",
   "name": "python3"
  },
  "language_info": {
   "codemirror_mode": {
    "name": "ipython",
    "version": 3
   },
   "file_extension": ".py",
   "mimetype": "text/x-python",
   "name": "python",
   "nbconvert_exporter": "python",
   "pygments_lexer": "ipython3",
   "version": "3.11.3"
  }
 },
 "nbformat": 4,
 "nbformat_minor": 5
}
